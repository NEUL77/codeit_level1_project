{
 "cells": [
  {
   "cell_type": "code",
   "execution_count": 2,
   "id": "58e904a5",
   "metadata": {},
   "outputs": [],
   "source": [
    "from utils import imports"
   ]
  },
  {
   "cell_type": "code",
   "execution_count": 3,
   "id": "fe01b518",
   "metadata": {},
   "outputs": [
    {
     "name": "stdout",
     "output_type": "stream",
     "text": [
      "hello\n"
     ]
    }
   ],
   "source": [
    "imports.time.sleep(3)\n",
    "print('hello')"
   ]
  }
 ],
 "metadata": {
  "kernelspec": {
   "display_name": "Python 3",
   "language": "python",
   "name": "python3"
  },
  "language_info": {
   "codemirror_mode": {
    "name": "ipython",
    "version": 3
   },
   "file_extension": ".py",
   "mimetype": "text/x-python",
   "name": "python",
   "nbconvert_exporter": "python",
   "pygments_lexer": "ipython3",
   "version": "3.10.1"
  }
 },
 "nbformat": 4,
 "nbformat_minor": 5
}
